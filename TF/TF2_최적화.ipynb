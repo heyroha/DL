{
  "nbformat": 4,
  "nbformat_minor": 0,
  "metadata": {
    "colab": {
      "provenance": [],
      "toc_visible": true,
      "authorship_tag": "ABX9TyPgCtOScgh4ZTbjpmVNiIXJ",
      "include_colab_link": true
    },
    "kernelspec": {
      "name": "python3",
      "display_name": "Python 3"
    },
    "language_info": {
      "name": "python"
    }
  },
  "cells": [
    {
      "cell_type": "markdown",
      "metadata": {
        "id": "view-in-github",
        "colab_type": "text"
      },
      "source": [
        "<a href=\"https://colab.research.google.com/github/heyroha/DL/blob/main/TF/TF2_%EC%B5%9C%EC%A0%81%ED%99%94.ipynb\" target=\"_parent\"><img src=\"https://colab.research.google.com/assets/colab-badge.svg\" alt=\"Open In Colab\"/></a>"
      ]
    },
    {
      "cell_type": "markdown",
      "source": [
        "# 최적화"
      ],
      "metadata": {
        "id": "OrrNj0Lk4e02"
      }
    },
    {
      "cell_type": "markdown",
      "source": [
        "## 1.자동미분\n",
        "\n",
        "- 텐서플로우의 자동 미분\n",
        "```tf.GradientTape```\n",
        "- tf.GradientTape 은 컨텍스트 안에서 실행된 모든 연산을 테이프에 기록\n",
        "- 그 다음 텐서플로는 후진 방식 자동 미분을 사용해 테이프에 기록된 연산의 그래디언트를 계산"
      ],
      "metadata": {
        "id": "G39q59vG4hSI"
      }
    },
    {
      "cell_type": "markdown",
      "source": [
        "- scalar를 scalar로 미분"
      ],
      "metadata": {
        "id": "K1EMGXsG44aX"
      }
    },
    {
      "cell_type": "code",
      "execution_count": null,
      "metadata": {
        "colab": {
          "base_uri": "https://localhost:8080/"
        },
        "id": "g0N51Jqz4Szo",
        "outputId": "ae31e286-1c1c-47fa-84ac-eee218814475"
      },
      "outputs": [
        {
          "output_type": "execute_result",
          "data": {
            "text/plain": [
              "<tf.Variable 'Variable:0' shape=() dtype=float32, numpy=3.0>"
            ]
          },
          "metadata": {},
          "execution_count": 1
        }
      ],
      "source": [
        "import tensorflow as tf\n",
        "x = tf.Variable(3.0)\n",
        "x"
      ]
    },
    {
      "cell_type": "code",
      "source": [
        "with tf.GradientTape() as tape:\n",
        "  y = x ** 2"
      ],
      "metadata": {
        "id": "5QI4wLv85ZBL"
      },
      "execution_count": null,
      "outputs": []
    },
    {
      "cell_type": "code",
      "source": [
        "y"
      ],
      "metadata": {
        "colab": {
          "base_uri": "https://localhost:8080/"
        },
        "id": "VsXbHzYx6Niw",
        "outputId": "2cbd7bf3-62e3-4ebe-8dc7-74ff6c064086"
      },
      "execution_count": null,
      "outputs": [
        {
          "output_type": "execute_result",
          "data": {
            "text/plain": [
              "<tf.Tensor: shape=(), dtype=float32, numpy=9.0>"
            ]
          },
          "metadata": {},
          "execution_count": 8
        }
      ]
    },
    {
      "cell_type": "code",
      "source": [
        "# dy = 2x * dy\n",
        "dy_dx = tape.gradient(y,x)\n",
        "dy_dx.numpy()"
      ],
      "metadata": {
        "colab": {
          "base_uri": "https://localhost:8080/"
        },
        "id": "btymee4j5hbq",
        "outputId": "8694c16c-75fb-4d9a-9b40-5ef514d9d20e"
      },
      "execution_count": null,
      "outputs": [
        {
          "output_type": "execute_result",
          "data": {
            "text/plain": [
              "6.0"
            ]
          },
          "metadata": {},
          "execution_count": 9
        }
      ]
    },
    {
      "cell_type": "markdown",
      "source": [
        "- scalar를 vector로 미분"
      ],
      "metadata": {
        "id": "zLfVNKQq6SRN"
      }
    },
    {
      "cell_type": "code",
      "source": [
        "w = tf.Variable(tf.random.normal((3,2)), name = 'w')\n",
        "b = tf.Variable(tf.zeros(2, dtype = tf.float32), name = 'b')\n",
        "x = [[1.,2.,3.]]\n",
        "\n",
        "with tf.GradientTape(persistent = True) as tape:\n",
        "  y = x@w + b\n",
        "  loss = tf.reduce_mean(y**2)\n"
      ],
      "metadata": {
        "id": "1nvFKThb5vPn"
      },
      "execution_count": null,
      "outputs": []
    },
    {
      "cell_type": "code",
      "source": [
        "[dl_dw, dl_db] = tape.gradient(loss, [w,b])\n",
        "[dl_dw, dl_db] #loss 를 w와 b로 각각 미분한 텐서"
      ],
      "metadata": {
        "colab": {
          "base_uri": "https://localhost:8080/"
        },
        "id": "uy6897dr7ShJ",
        "outputId": "ede81743-37c2-4c96-aad5-a349107a3acd"
      },
      "execution_count": null,
      "outputs": [
        {
          "output_type": "execute_result",
          "data": {
            "text/plain": [
              "[<tf.Tensor: shape=(3, 2), dtype=float32, numpy=\n",
              " array([[ -7.8258014,  -2.9726748],\n",
              "        [-15.651603 ,  -5.9453497],\n",
              "        [-23.477404 ,  -8.918024 ]], dtype=float32)>,\n",
              " <tf.Tensor: shape=(2,), dtype=float32, numpy=array([-7.8258014, -2.9726748], dtype=float32)>]"
            ]
          },
          "metadata": {},
          "execution_count": 14
        }
      ]
    },
    {
      "cell_type": "markdown",
      "source": [
        "**자동 미분 컨트롤 하기**\n",
        "- tf.Variable 만 기록\n",
        "- A variable + tensor 는 tensor를 반환\n",
        "- trainable 조건으로 미분 기록을 제어"
      ],
      "metadata": {
        "id": "5d7BPfmH8Ut4"
      }
    },
    {
      "cell_type": "code",
      "source": [
        "# trainable variable\n",
        "x0 =  tf.Variable(3.0 , name = 'x0')\n",
        "\n",
        "# not trainable variable\n",
        "x1 = tf.Variable(3.0, name = 'x1', trainable = False)\n",
        "\n",
        "# Not a variable: variable + tensor = tensor\n",
        "x2 = tf.constant(3.0, name = 'x2') + 1.0\n",
        "\n",
        "# not a variable\n",
        "x3 = tf.constant(3.0, name = 'x3')\n",
        "\n",
        "with tf.GradientTape() as tape:\n",
        "  y = (x0**2) + (x1**2) + (x3 **2)\n",
        "\n",
        "grad = tape.gradient(y,[x0,x1,x2,x3])\n",
        "\n",
        "for g in grad:\n",
        "  print(g)"
      ],
      "metadata": {
        "colab": {
          "base_uri": "https://localhost:8080/"
        },
        "id": "8IDRbfgH7xu0",
        "outputId": "2d937b78-2af3-4250-bde2-4b96ef626d66"
      },
      "execution_count": null,
      "outputs": [
        {
          "output_type": "stream",
          "name": "stdout",
          "text": [
            "tf.Tensor(6.0, shape=(), dtype=float32)\n",
            "None\n",
            "None\n",
            "None\n"
          ]
        }
      ]
    },
    {
      "cell_type": "markdown",
      "source": [
        "- 기록되고있는 variable 확인하기"
      ],
      "metadata": {
        "id": "UNKF93g49NSf"
      }
    },
    {
      "cell_type": "code",
      "source": [
        "tape.watched_variables()"
      ],
      "metadata": {
        "colab": {
          "base_uri": "https://localhost:8080/"
        },
        "id": "kYkuz5GK9MXp",
        "outputId": "e47ddb6d-e2e3-490d-ec97-11ad2cf3f3af"
      },
      "execution_count": null,
      "outputs": [
        {
          "output_type": "execute_result",
          "data": {
            "text/plain": [
              "(<tf.Variable 'x0:0' shape=() dtype=float32, numpy=3.0>,)"
            ]
          },
          "metadata": {},
          "execution_count": 18
        }
      ]
    },
    {
      "cell_type": "markdown",
      "source": [
        "## 2.Linear Regression 구현"
      ],
      "metadata": {
        "id": "SaywnXSb9bk0"
      }
    },
    {
      "cell_type": "code",
      "source": [
        "import tensorflow as tf\n",
        "import matplotlib.pyplot as plt\n",
        "\n",
        "tf.random.set_seed(777)"
      ],
      "metadata": {
        "id": "v9imYBmx9mk4"
      },
      "execution_count": null,
      "outputs": []
    },
    {
      "cell_type": "markdown",
      "source": [
        "### 가상 데이터셋"
      ],
      "metadata": {
        "id": "TJ-5JtBJ9kON"
      }
    },
    {
      "cell_type": "code",
      "source": [
        "W_true = 3.0\n",
        "B_true = 2.0\n",
        "\n",
        "X = tf.random.normal((500,1))\n",
        "noise = tf.random.normal((500,1))\n",
        "\n",
        "y = X * W_true + B_true + noise"
      ],
      "metadata": {
        "id": "UdmRsz2b9WhX"
      },
      "execution_count": null,
      "outputs": []
    },
    {
      "cell_type": "code",
      "source": [
        "plt.figure(figsize = (4,4))\n",
        "plt.scatter(X,y)\n",
        "plt.show();"
      ],
      "metadata": {
        "colab": {
          "base_uri": "https://localhost:8080/",
          "height": 369
        },
        "id": "A5guyz2Pb1hc",
        "outputId": "c530750f-c4ef-40b3-b9ff-4d2ece30536a"
      },
      "execution_count": null,
      "outputs": [
        {
          "output_type": "display_data",
          "data": {
            "text/plain": [
              "<Figure size 400x400 with 1 Axes>"
            ],
            "image/png": "[encoded data removed]"
          },
          "metadata": {}
        }
      ]
    },
    {
      "cell_type": "code",
      "source": [
        "w = tf.Variable(5.)\n",
        "b = tf.Variable(0.)"
      ],
      "metadata": {
        "id": "JVeChd4tb-88"
      },
      "execution_count": null,
      "outputs": []
    },
    {
      "cell_type": "code",
      "source": [
        "lr = 0.03"
      ],
      "metadata": {
        "id": "BHxU0-p4dFXU"
      },
      "execution_count": null,
      "outputs": []
    },
    {
      "cell_type": "code",
      "source": [
        "w_records = []\n",
        "b_records = []\n",
        "loss_records = []\n",
        "\n",
        "for epoch in range(100):\n",
        "  with tf.GradientTape() as tape:\n",
        "    y_hat = X * w + b\n",
        "    loss = tf.reduce_mean(tf.square(y- y_hat))\n",
        "\n",
        "  w_records.append(w.numpy())\n",
        "  b_records.append(b.numpy())\n",
        "  loss_records.append(loss.numpy())\n",
        "\n",
        "  dw, db = tape.gradient(loss, [w,b])\n",
        "\n",
        "  w.assign_sub( lr * dw)\n",
        "  b.assign_sub( lr * db)\n"
      ],
      "metadata": {
        "id": "q6SIPyw0cP8s"
      },
      "execution_count": null,
      "outputs": []
    },
    {
      "cell_type": "code",
      "source": [
        "plt.figure(figsize = (4,4))\n",
        "plt.plot(loss_records)\n",
        "plt.title('loss')\n",
        "plt.show();"
      ],
      "metadata": {
        "colab": {
          "base_uri": "https://localhost:8080/",
          "height": 391
        },
        "id": "lTs-4E_IdLvz",
        "outputId": "cfe626ba-b13b-4418-9d98-6438c7745c6f"
      },
      "execution_count": null,
      "outputs": [
        {
          "output_type": "display_data",
          "data": {
            "text/plain": [
              "<Figure size 400x400 with 1 Axes>"
            ],
            "image/png": "[encoded data removed]"
          },
          "metadata": {}
        }
      ]
    },
    {
      "cell_type": "code",
      "source": [
        "plt.figure(figsize = (4,4))\n",
        "plt.plot(w_records)\n",
        "plt.title('w')\n",
        "plt.show();"
      ],
      "metadata": {
        "colab": {
          "base_uri": "https://localhost:8080/",
          "height": 391
        },
        "id": "7gmJvI3YdTTr",
        "outputId": "2fd69170-a7d1-4384-8caf-b19e26b68cd5"
      },
      "execution_count": null,
      "outputs": [
        {
          "output_type": "display_data",
          "data": {
            "text/plain": [
              "<Figure size 400x400 with 1 Axes>"
            ],
            "image/png": "[encoded data removed]"
          },
          "metadata": {}
        }
      ]
    },
    {
      "cell_type": "code",
      "source": [
        "plt.figure(figsize = (4,4))\n",
        "plt.plot(b_records)\n",
        "plt.title('b')\n",
        "plt.show();"
      ],
      "metadata": {
        "colab": {
          "base_uri": "https://localhost:8080/",
          "height": 391
        },
        "id": "kkFp0BV9db-y",
        "outputId": "2f7920c0-d160-406a-cdbd-cd29e3a051b2"
      },
      "execution_count": null,
      "outputs": [
        {
          "output_type": "display_data",
          "data": {
            "text/plain": [
              "<Figure size 400x400 with 1 Axes>"
            ],
            "image/png": "[encoded data removed]"
          },
          "metadata": {}
        }
      ]
    },
    {
      "cell_type": "markdown",
      "source": [
        "### 당뇨병 데이터"
      ],
      "metadata": {
        "id": "8gen9PxFdp48"
      }
    },
    {
      "cell_type": "markdown",
      "source": [
        "#### 가중치(1)\n",
        "\n",
        "![image.png](data:image/png;base64,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)"
      ],
      "metadata": {
        "id": "BHXKACpRhkhm"
      }
    },
    {
      "cell_type": "code",
      "source": [
        "from sklearn.datasets import load_diabetes\n",
        "import pandas as pd\n",
        "import numpy as np\n",
        "\n",
        "diabetes = load_diabetes()\n",
        "df = pd.DataFrame(data = diabetes.data, columns = diabetes.feature_names, dtype = np.float32)\n",
        "df['const'] = np.ones(df.shape[0])\n",
        "df.tail()"
      ],
      "metadata": {
        "colab": {
          "base_uri": "https://localhost:8080/",
          "height": 226
        },
        "id": "jNEjbJEqdezh",
        "outputId": "a5a06e11-21dc-4c03-b3e2-0dce02901d2a"
      },
      "execution_count": null,
      "outputs": [
        {
          "output_type": "execute_result",
          "data": {
            "text/plain": [
              "          age       sex       bmi        bp        s1        s2        s3  \\\n",
              "437  0.041708  0.050680  0.019662  0.059744 -0.005697 -0.002566 -0.028674   \n",
              "438 -0.005515  0.050680 -0.015906 -0.067642  0.049341  0.079165 -0.028674   \n",
              "439  0.041708  0.050680 -0.015906  0.017293 -0.037344 -0.013840 -0.024993   \n",
              "440 -0.045472 -0.044642  0.039062  0.001215  0.016318  0.015283 -0.028674   \n",
              "441 -0.045472 -0.044642 -0.073030 -0.081413  0.083740  0.027809  0.173816   \n",
              "\n",
              "           s4        s5        s6  const  \n",
              "437 -0.002592  0.031193  0.007207    1.0  \n",
              "438  0.034309 -0.018114  0.044485    1.0  \n",
              "439 -0.011080 -0.046883  0.015491    1.0  \n",
              "440  0.026560  0.044529 -0.025930    1.0  \n",
              "441 -0.039493 -0.004222  0.003064    1.0  "
            ],
            "text/html": [
              "\n",
              "  <div id=\"df-166b8f59-7fb7-4733-aefa-07ecd4c93bab\" class=\"colab-df-container\">\n",
              "    <div>\n",
              "<style scoped>\n",
              "    .dataframe tbody tr th:only-of-type {\n",
              "        vertical-align: middle;\n",
              "    }\n",
              "\n",
              "    .dataframe tbody tr th {\n",
              "        vertical-align: top;\n",
              "    }\n",
              "\n",
              "    .dataframe thead th {\n",
              "        text-align: right;\n",
              "    }\n",
              "</style>\n",
              "<table border=\"1\" class=\"dataframe\">\n",
              "  <thead>\n",
              "    <tr style=\"text-align: right;\">\n",
              "      <th></th>\n",
              "      <th>age</th>\n",
              "      <th>sex</th>\n",
              "      <th>bmi</th>\n",
              "      <th>bp</th>\n",
              "      <th>s1</th>\n",
              "      <th>s2</th>\n",
              "      <th>s3</th>\n",
              "      <th>s4</th>\n",
              "      <th>s5</th>\n",
              "      <th>s6</th>\n",
              "      <th>const</th>\n",
              "    </tr>\n",
              "  </thead>\n",
              "  <tbody>\n",
              "    <tr>\n",
              "      <th>437</th>\n",
              "      <td>0.041708</td>\n",
              "      <td>0.050680</td>\n",
              "      <td>0.019662</td>\n",
              "      <td>0.059744</td>\n",
              "      <td>-0.005697</td>\n",
              "      <td>-0.002566</td>\n",
              "      <td>-0.028674</td>\n",
              "      <td>-0.002592</td>\n",
              "      <td>0.031193</td>\n",
              "      <td>0.007207</td>\n",
              "      <td>1.0</td>\n",
              "    </tr>\n",
              "    <tr>\n",
              "      <th>438</th>\n",
              "      <td>-0.005515</td>\n",
              "      <td>0.050680</td>\n",
              "      <td>-0.015906</td>\n",
              "      <td>-0.067642</td>\n",
              "      <td>0.049341</td>\n",
              "      <td>0.079165</td>\n",
              "      <td>-0.028674</td>\n",
              "      <td>0.034309</td>\n",
              "      <td>-0.018114</td>\n",
              "      <td>0.044485</td>\n",
              "      <td>1.0</td>\n",
              "    </tr>\n",
              "    <tr>\n",
              "      <th>439</th>\n",
              "      <td>0.041708</td>\n",
              "      <td>0.050680</td>\n",
              "      <td>-0.015906</td>\n",
              "      <td>0.017293</td>\n",
              "      <td>-0.037344</td>\n",
              "      <td>-0.013840</td>\n",
              "      <td>-0.024993</td>\n",
              "      <td>-0.011080</td>\n",
              "      <td>-0.046883</td>\n",
              "      <td>0.015491</td>\n",
              "      <td>1.0</td>\n",
              "    </tr>\n",
              "    <tr>\n",
              "      <th>440</th>\n",
              "      <td>-0.045472</td>\n",
              "      <td>-0.044642</td>\n",
              "      <td>0.039062</td>\n",
              "      <td>0.001215</td>\n",
              "      <td>0.016318</td>\n",
              "      <td>0.015283</td>\n",
              "      <td>-0.028674</td>\n",
              "      <td>0.026560</td>\n",
              "      <td>0.044529</td>\n",
              "      <td>-0.025930</td>\n",
              "      <td>1.0</td>\n",
              "    </tr>\n",
              "    <tr>\n",
              "      <th>441</th>\n",
              "      <td>-0.045472</td>\n",
              "      <td>-0.044642</td>\n",
              "      <td>-0.073030</td>\n",
              "      <td>-0.081413</td>\n",
              "      <td>0.083740</td>\n",
              "      <td>0.027809</td>\n",
              "      <td>0.173816</td>\n",
              "      <td>-0.039493</td>\n",
              "      <td>-0.004222</td>\n",
              "      <td>0.003064</td>\n",
              "      <td>1.0</td>\n",
              "    </tr>\n",
              "  </tbody>\n",
              "</table>\n",
              "</div>\n",
              "    <div class=\"colab-df-buttons\">\n",
              "\n",
              "  <div class=\"colab-df-container\">\n",
              "    <button class=\"colab-df-convert\" onclick=\"convertToInteractive('df-166b8f59-7fb7-4733-aefa-07ecd4c93bab')\"\n",
              "            title=\"Convert this dataframe to an interactive table.\"\n",
              "            style=\"display:none;\">\n",
              "\n",
              "  <svg xmlns=\"http://www.w3.org/2000/svg\" height=\"24px\" viewBox=\"0 -960 960 960\">\n",
              "    <path d=\"M120-120v-720h720v720H120Zm60-500h600v-160H180v160Zm220 220h160v-160H400v160Zm0 220h160v-160H400v160ZM180-400h160v-160H180v160Zm440 0h160v-160H620v160ZM180-180h160v-160H180v160Zm440 0h160v-160H620v160Z\"/>\n",
              "  </svg>\n",
              "    </button>\n",
              "\n",
              "  <style>\n",
              "    .colab-df-container {\n",
              "      display:flex;\n",
              "      gap: 12px;\n",
              "    }\n",
              "\n",
              "    .colab-df-convert {\n",
              "      background-color: #E8F0FE;\n",
              "      border: none;\n",
              "      border-radius: 50%;\n",
              "      cursor: pointer;\n",
              "      display: none;\n",
              "      fill: #1967D2;\n",
              "      height: 32px;\n",
              "      padding: 0 0 0 0;\n",
              "      width: 32px;\n",
              "    }\n",
              "\n",
              "    .colab-df-convert:hover {\n",
              "      background-color: #E2EBFA;\n",
              "      box-shadow: 0px 1px 2px rgba(60, 64, 67, 0.3), 0px 1px 3px 1px rgba(60, 64, 67, 0.15);\n",
              "      fill: #174EA6;\n",
              "    }\n",
              "\n",
              "    .colab-df-buttons div {\n",
              "      margin-bottom: 4px;\n",
              "    }\n",
              "\n",
              "    [theme=dark] .colab-df-convert {\n",
              "      background-color: #3B4455;\n",
              "      fill: #D2E3FC;\n",
              "    }\n",
              "\n",
              "    [theme=dark] .colab-df-convert:hover {\n",
              "      background-color: #434B5C;\n",
              "      box-shadow: 0px 1px 3px 1px rgba(0, 0, 0, 0.15);\n",
              "      filter: drop-shadow(0px 1px 2px rgba(0, 0, 0, 0.3));\n",
              "      fill: #FFFFFF;\n",
              "    }\n",
              "  </style>\n",
              "\n",
              "    <script>\n",
              "      const buttonEl =\n",
              "        document.querySelector('#df-166b8f59-7fb7-4733-aefa-07ecd4c93bab button.colab-df-convert');\n",
              "      buttonEl.style.display =\n",
              "        google.colab.kernel.accessAllowed ? 'block' : 'none';\n",
              "\n",
              "      async function convertToInteractive(key) {\n",
              "        const element = document.querySelector('#df-166b8f59-7fb7-4733-aefa-07ecd4c93bab');\n",
              "        const dataTable =\n",
              "          await google.colab.kernel.invokeFunction('convertToInteractive',\n",
              "                                                    [key], {});\n",
              "        if (!dataTable) return;\n",
              "\n",
              "        const docLinkHtml = 'Like what you see? Visit the ' +\n",
              "          '<a target=\"_blank\" href=https://colab.research.google.com/notebooks/data_table.ipynb>data table notebook</a>'\n",
              "          + ' to learn more about interactive tables.';\n",
              "        element.innerHTML = '';\n",
              "        dataTable['output_type'] = 'display_data';\n",
              "        await google.colab.output.renderOutput(dataTable, element);\n",
              "        const docLink = document.createElement('div');\n",
              "        docLink.innerHTML = docLinkHtml;\n",
              "        element.appendChild(docLink);\n",
              "      }\n",
              "    </script>\n",
              "  </div>\n",
              "\n",
              "\n",
              "<div id=\"df-36bb605c-0cbc-4966-b5d4-1da0c71fa3f0\">\n",
              "  <button class=\"colab-df-quickchart\" onclick=\"quickchart('df-36bb605c-0cbc-4966-b5d4-1da0c71fa3f0')\"\n",
              "            title=\"Suggest charts\"\n",
              "            style=\"display:none;\">\n",
              "\n",
              "<svg xmlns=\"http://www.w3.org/2000/svg\" height=\"24px\"viewBox=\"0 0 24 24\"\n",
              "     width=\"24px\">\n",
              "    <g>\n",
              "        <path d=\"M19 3H5c-1.1 0-2 .9-2 2v14c0 1.1.9 2 2 2h14c1.1 0 2-.9 2-2V5c0-1.1-.9-2-2-2zM9 17H7v-7h2v7zm4 0h-2V7h2v10zm4 0h-2v-4h2v4z\"/>\n",
              "    </g>\n",
              "</svg>\n",
              "  </button>\n",
              "\n",
              "<style>\n",
              "  .colab-df-quickchart {\n",
              "      --bg-color: #E8F0FE;\n",
              "      --fill-color: #1967D2;\n",
              "      --hover-bg-color: #E2EBFA;\n",
              "      --hover-fill-color: #174EA6;\n",
              "      --disabled-fill-color: #AAA;\n",
              "      --disabled-bg-color: #DDD;\n",
              "  }\n",
              "\n",
              "  [theme=dark] .colab-df-quickchart {\n",
              "      --bg-color: #3B4455;\n",
              "      --fill-color: #D2E3FC;\n",
              "      --hover-bg-color: #434B5C;\n",
              "      --hover-fill-color: #FFFFFF;\n",
              "      --disabled-bg-color: #3B4455;\n",
              "      --disabled-fill-color: #666;\n",
              "  }\n",
              "\n",
              "  .colab-df-quickchart {\n",
              "    background-color: var(--bg-color);\n",
              "    border: none;\n",
              "    border-radius: 50%;\n",
              "    cursor: pointer;\n",
              "    display: none;\n",
              "    fill: var(--fill-color);\n",
              "    height: 32px;\n",
              "    padding: 0;\n",
              "    width: 32px;\n",
              "  }\n",
              "\n",
              "  .colab-df-quickchart:hover {\n",
              "    background-color: var(--hover-bg-color);\n",
              "    box-shadow: 0 1px 2px rgba(60, 64, 67, 0.3), 0 1px 3px 1px rgba(60, 64, 67, 0.15);\n",
              "    fill: var(--button-hover-fill-color);\n",
              "  }\n",
              "\n",
              "  .colab-df-quickchart-complete:disabled,\n",
              "  .colab-df-quickchart-complete:disabled:hover {\n",
              "    background-color: var(--disabled-bg-color);\n",
              "    fill: var(--disabled-fill-color);\n",
              "    box-shadow: none;\n",
              "  }\n",
              "\n",
              "  .colab-df-spinner {\n",
              "    border: 2px solid var(--fill-color);\n",
              "    border-color: transparent;\n",
              "    border-bottom-color: var(--fill-color);\n",
              "    animation:\n",
              "      spin 1s steps(1) infinite;\n",
              "  }\n",
              "\n",
              "  @keyframes spin {\n",
              "    0% {\n",
              "      border-color: transparent;\n",
              "      border-bottom-color: var(--fill-color);\n",
              "      border-left-color: var(--fill-color);\n",
              "    }\n",
              "    20% {\n",
              "      border-color: transparent;\n",
              "      border-left-color: var(--fill-color);\n",
              "      border-top-color: var(--fill-color);\n",
              "    }\n",
              "    30% {\n",
              "      border-color: transparent;\n",
              "      border-left-color: var(--fill-color);\n",
              "      border-top-color: var(--fill-color);\n",
              "      border-right-color: var(--fill-color);\n",
              "    }\n",
              "    40% {\n",
              "      border-color: transparent;\n",
              "      border-right-color: var(--fill-color);\n",
              "      border-top-color: var(--fill-color);\n",
              "    }\n",
              "    60% {\n",
              "      border-color: transparent;\n",
              "      border-right-color: var(--fill-color);\n",
              "    }\n",
              "    80% {\n",
              "      border-color: transparent;\n",
              "      border-right-color: var(--fill-color);\n",
              "      border-bottom-color: var(--fill-color);\n",
              "    }\n",
              "    90% {\n",
              "      border-color: transparent;\n",
              "      border-bottom-color: var(--fill-color);\n",
              "    }\n",
              "  }\n",
              "</style>\n",
              "\n",
              "  <script>\n",
              "    async function quickchart(key) {\n",
              "      const quickchartButtonEl =\n",
              "        document.querySelector('#' + key + ' button');\n",
              "      quickchartButtonEl.disabled = true;  // To prevent multiple clicks.\n",
              "      quickchartButtonEl.classList.add('colab-df-spinner');\n",
              "      try {\n",
              "        const charts = await google.colab.kernel.invokeFunction(\n",
              "            'suggestCharts', [key], {});\n",
              "      } catch (error) {\n",
              "        console.error('Error during call to suggestCharts:', error);\n",
              "      }\n",
              "      quickchartButtonEl.classList.remove('colab-df-spinner');\n",
              "      quickchartButtonEl.classList.add('colab-df-quickchart-complete');\n",
              "    }\n",
              "    (() => {\n",
              "      let quickchartButtonEl =\n",
              "        document.querySelector('#df-36bb605c-0cbc-4966-b5d4-1da0c71fa3f0 button');\n",
              "      quickchartButtonEl.style.display =\n",
              "        google.colab.kernel.accessAllowed ? 'block' : 'none';\n",
              "    })();\n",
              "  </script>\n",
              "</div>\n",
              "\n",
              "    </div>\n",
              "  </div>\n"
            ],
            "application/vnd.google.colaboratory.intrinsic+json": {
              "type": "dataframe",
              "summary": "{\n  \"name\": \"df\",\n  \"rows\": 5,\n  \"fields\": [\n    {\n      \"column\": \"age\",\n      \"properties\": {\n        \"dtype\": \"float32\",\n        \"num_unique_values\": 3,\n        \"samples\": [\n          0.04170844331383705,\n          -0.005514555145055056,\n          -0.04547247663140297\n        ],\n        \"semantic_type\": \"\",\n        \"description\": \"\"\n      }\n    },\n    {\n      \"column\": \"sex\",\n      \"properties\": {\n        \"dtype\": \"float32\",\n        \"num_unique_values\": 2,\n        \"samples\": [\n          -0.044641636312007904,\n          0.050680119544267654\n        ],\n        \"semantic_type\": \"\",\n        \"description\": \"\"\n      }\n    },\n    {\n      \"column\": \"bmi\",\n      \"properties\": {\n        \"dtype\": \"float32\",\n        \"num_unique_values\": 4,\n        \"samples\": [\n          -0.015906263142824173,\n          -0.07303030043840408\n        ],\n        \"semantic_type\": \"\",\n        \"description\": \"\"\n      }\n    },\n    {\n      \"column\": \"bp\",\n      \"properties\": {\n        \"dtype\": \"float32\",\n        \"num_unique_values\": 5,\n        \"samples\": [\n          -0.0676417425274849,\n          -0.0814131423830986\n        ],\n        \"semantic_type\": \"\",\n        \"description\": \"\"\n      }\n    },\n    {\n      \"column\": \"s1\",\n      \"properties\": {\n        \"dtype\": \"float32\",\n        \"num_unique_values\": 5,\n        \"samples\": [\n          0.049341294914484024,\n          0.08374011516571045\n        ],\n        \"semantic_type\": \"\",\n        \"description\": \"\"\n      }\n    },\n    {\n      \"column\": \"s2\",\n      \"properties\": {\n        \"dtype\": \"float32\",\n        \"num_unique_values\": 5,\n        \"samples\": [\n          0.07916527986526489,\n          0.02780892886221409\n        ],\n        \"semantic_type\": \"\",\n        \"description\": \"\"\n      }\n    },\n    {\n      \"column\": \"s3\",\n      \"properties\": {\n        \"dtype\": \"float32\",\n        \"num_unique_values\": 3,\n        \"samples\": [\n          -0.0286742951720953,\n          -0.024992655962705612\n        ],\n        \"semantic_type\": \"\",\n        \"description\": \"\"\n      }\n    },\n    {\n      \"column\": \"s4\",\n      \"properties\": {\n        \"dtype\": \"float32\",\n        \"num_unique_values\": 5,\n        \"samples\": [\n          0.03430885821580887,\n          -0.0394933819770813\n        ],\n        \"semantic_type\": \"\",\n        \"description\": \"\"\n      }\n    },\n    {\n      \"column\": \"s5\",\n      \"properties\": {\n        \"dtype\": \"float32\",\n        \"num_unique_values\": 5,\n        \"samples\": [\n          -0.018113693222403526,\n          -0.004221513867378235\n        ],\n        \"semantic_type\": \"\",\n        \"description\": \"\"\n      }\n    },\n    {\n      \"column\": \"s6\",\n      \"properties\": {\n        \"dtype\": \"float32\",\n        \"num_unique_values\": 5,\n        \"samples\": [\n          0.04448547959327698,\n          0.003064409364014864\n        ],\n        \"semantic_type\": \"\",\n        \"description\": \"\"\n      }\n    },\n    {\n      \"column\": \"const\",\n      \"properties\": {\n        \"dtype\": \"number\",\n        \"std\": 0.0,\n        \"min\": 1.0,\n        \"max\": 1.0,\n        \"num_unique_values\": 1,\n        \"samples\": [\n          1.0\n        ],\n        \"semantic_type\": \"\",\n        \"description\": \"\"\n      }\n    }\n  ]\n}"
            }
          },
          "metadata": {},
          "execution_count": 24
        }
      ]
    },
    {
      "cell_type": "code",
      "source": [
        "X = df\n",
        "y = np.expand_dims(diabetes.target, axis = 1)\n",
        "X.shape, y.shape"
      ],
      "metadata": {
        "colab": {
          "base_uri": "https://localhost:8080/"
        },
        "id": "2jx-7WgZeTLr",
        "outputId": "3703b536-e448-4950-f3ec-08e82a090456"
      },
      "execution_count": null,
      "outputs": [
        {
          "output_type": "execute_result",
          "data": {
            "text/plain": [
              "((442, 11), (442, 1))"
            ]
          },
          "metadata": {},
          "execution_count": 31
        }
      ]
    },
    {
      "cell_type": "code",
      "source": [
        "X_t = tf.transpose(X)\n",
        "w = tf.matmul(tf.matmul(tf.linalg.inv(tf.matmul(X_t , X)) , X_t) , y)\n",
        "\n",
        "y_pred = tf.matmul(X,w)"
      ],
      "metadata": {
        "id": "F479c-1IetAs"
      },
      "execution_count": null,
      "outputs": []
    },
    {
      "cell_type": "code",
      "source": [
        "print('예측한 진행도:', y_pred[0].numpy(), '실제 진행도:', y[0])\n",
        "print('예측한 진행도:', y_pred[1].numpy(), '실제 진행도:', y[1])\n",
        "print('예측한 진행도:', y_pred[2].numpy(), '실제 진행도:', y[2])"
      ],
      "metadata": {
        "colab": {
          "base_uri": "https://localhost:8080/"
        },
        "id": "7voxGOy6fyV8",
        "outputId": "89e62be8-ddd6-49fe-cc39-b24853870192"
      },
      "execution_count": null,
      "outputs": [
        {
          "output_type": "stream",
          "name": "stdout",
          "text": [
            "예측한 진행도: [206.11667747] 실제 진행도: [151.]\n",
            "예측한 진행도: [68.07103311] 실제 진행도: [75.]\n",
            "예측한 진행도: [176.8827902] 실제 진행도: [141.]\n"
          ]
        }
      ]
    },
    {
      "cell_type": "markdown",
      "source": [
        "#### 가중치(2)\n",
        "- SGD 방식"
      ],
      "metadata": {
        "id": "iAybpawhhpfD"
      }
    },
    {
      "cell_type": "code",
      "source": [
        "lr = 0.3\n",
        "num_iter = 100"
      ],
      "metadata": {
        "id": "C9Hzl4Hxg3nI"
      },
      "execution_count": null,
      "outputs": []
    },
    {
      "cell_type": "code",
      "source": [
        " w_init = tf.random.normal((X.shape[-1],1),dtype = tf.float64)\n",
        " w = tf.Variable(w_init)"
      ],
      "metadata": {
        "id": "a_qkV8-Qhyus"
      },
      "execution_count": null,
      "outputs": []
    },
    {
      "cell_type": "code",
      "source": [
        "for i in range(num_iter):\n",
        "  with tf.GradientTape() as tape:\n",
        "    y_hat = tf.matmul(X, w)\n",
        "    loss = tf.reduce_mean((y-y_hat)**2)\n",
        "\n",
        "    dw = tape.gradient(loss, w)\n",
        "    w.assign_sub(lr * dw)"
      ],
      "metadata": {
        "id": "LdhfT4I5iuJ0"
      },
      "execution_count": null,
      "outputs": []
    },
    {
      "cell_type": "code",
      "source": [
        "print('예측한 진행도:', y_hat[0].numpy(), '실제 진행도:', y[0])\n",
        "print('예측한 진행도:', y_hat[1].numpy(), '실제 진행도:', y[1])\n",
        "print('예측한 진행도:', y_hat[2].numpy(), '실제 진행도:', y[2])"
      ],
      "metadata": {
        "colab": {
          "base_uri": "https://localhost:8080/"
        },
        "id": "UOVcYJsrpRIw",
        "outputId": "ab9b0ae6-4747-4be1-b541-0cef3ea825d8"
      },
      "execution_count": null,
      "outputs": [
        {
          "output_type": "stream",
          "name": "stdout",
          "text": [
            "예측한 진행도: [163.08598077] 실제 진행도: [151.]\n",
            "예측한 진행도: [123.23823489] 실제 진행도: [75.]\n",
            "예측한 진행도: [157.4691437] 실제 진행도: [141.]\n"
          ]
        }
      ]
    },
    {
      "cell_type": "markdown",
      "source": [
        "## 3.perceptron\n",
        "- 이번에는 iris 데이터 중 두 종류를 분류하는 퍼셉트론을 제작\n",
        "- y의 값은 1또는 -1을 사용하고 활성화 함수로는 하이퍼탄젠트 tanh를 사용한다\n",
        "\n",
        "![image.png](data:image/png;base64,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)"
      ],
      "metadata": {
        "id": "H36iu16jp4Ft"
      }
    },
    {
      "cell_type": "markdown",
      "source": [
        "- loss 함수로는 아래 함수를 사용한다.\n",
        "\n",
        "![image.png](data:image/png;base64,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)"
      ],
      "metadata": {
        "id": "LmAzkElqDVRz"
      }
    },
    {
      "cell_type": "code",
      "source": [
        "import tensorflow as tf\n",
        "import numpy as np"
      ],
      "metadata": {
        "id": "vfc4lZHYpiEX"
      },
      "execution_count": 1,
      "outputs": []
    },
    {
      "cell_type": "code",
      "source": [
        "from sklearn.datasets import load_iris\n",
        "\n",
        "iris = load_iris()\n",
        "print(iris.DESCR)"
      ],
      "metadata": {
        "colab": {
          "base_uri": "https://localhost:8080/"
        },
        "id": "an4p17KLDDI9",
        "outputId": "34f66d7a-09df-4972-8e9b-0bad77f5292e"
      },
      "execution_count": 3,
      "outputs": [
        {
          "output_type": "stream",
          "name": "stdout",
          "text": [
            ".. _iris_dataset:\n",
            "\n",
            "Iris plants dataset\n",
            "--------------------\n",
            "\n",
            "**Data Set Characteristics:**\n",
            "\n",
            "    :Number of Instances: 150 (50 in each of three classes)\n",
            "    :Number of Attributes: 4 numeric, predictive attributes and the class\n",
            "    :Attribute Information:\n",
            "        - sepal length in cm\n",
            "        - sepal width in cm\n",
            "        - petal length in cm\n",
            "        - petal width in cm\n",
            "        - class:\n",
            "                - Iris-Setosa\n",
            "                - Iris-Versicolour\n",
            "                - Iris-Virginica\n",
            "                \n",
            "    :Summary Statistics:\n",
            "\n",
            "    ============== ==== ==== ======= ===== ====================\n",
            "                    Min  Max   Mean    SD   Class Correlation\n",
            "    ============== ==== ==== ======= ===== ====================\n",
            "    sepal length:   4.3  7.9   5.84   0.83    0.7826\n",
            "    sepal width:    2.0  4.4   3.05   0.43   -0.4194\n",
            "    petal length:   1.0  6.9   3.76   1.76    0.9490  (high!)\n",
            "    petal width:    0.1  2.5   1.20   0.76    0.9565  (high!)\n",
            "    ============== ==== ==== ======= ===== ====================\n",
            "\n",
            "    :Missing Attribute Values: None\n",
            "    :Class Distribution: 33.3% for each of 3 classes.\n",
            "    :Creator: R.A. Fisher\n",
            "    :Donor: Michael Marshall (MARSHALL%PLU@io.arc.nasa.gov)\n",
            "    :Date: July, 1988\n",
            "\n",
            "The famous Iris database, first used by Sir R.A. Fisher. The dataset is taken\n",
            "from Fisher's paper. Note that it's the same as in R, but not as in the UCI\n",
            "Machine Learning Repository, which has two wrong data points.\n",
            "\n",
            "This is perhaps the best known database to be found in the\n",
            "pattern recognition literature.  Fisher's paper is a classic in the field and\n",
            "is referenced frequently to this day.  (See Duda & Hart, for example.)  The\n",
            "data set contains 3 classes of 50 instances each, where each class refers to a\n",
            "type of iris plant.  One class is linearly separable from the other 2; the\n",
            "latter are NOT linearly separable from each other.\n",
            "\n",
            "|details-start|\n",
            "**References**\n",
            "|details-split|\n",
            "\n",
            "- Fisher, R.A. \"The use of multiple measurements in taxonomic problems\"\n",
            "  Annual Eugenics, 7, Part II, 179-188 (1936); also in \"Contributions to\n",
            "  Mathematical Statistics\" (John Wiley, NY, 1950).\n",
            "- Duda, R.O., & Hart, P.E. (1973) Pattern Classification and Scene Analysis.\n",
            "  (Q327.D83) John Wiley & Sons.  ISBN 0-471-22361-1.  See page 218.\n",
            "- Dasarathy, B.V. (1980) \"Nosing Around the Neighborhood: A New System\n",
            "  Structure and Classification Rule for Recognition in Partially Exposed\n",
            "  Environments\".  IEEE Transactions on Pattern Analysis and Machine\n",
            "  Intelligence, Vol. PAMI-2, No. 1, 67-71.\n",
            "- Gates, G.W. (1972) \"The Reduced Nearest Neighbor Rule\".  IEEE Transactions\n",
            "  on Information Theory, May 1972, 431-433.\n",
            "- See also: 1988 MLC Proceedings, 54-64.  Cheeseman et al\"s AUTOCLASS II\n",
            "  conceptual clustering system finds 3 classes in the data.\n",
            "- Many, many more ...\n",
            "\n",
            "|details-end|\n"
          ]
        }
      ]
    },
    {
      "cell_type": "code",
      "source": [
        "idx = np.in1d(iris.target,[0,2]) #in1d -> target값이 0이거나 2인 값이 들어가있는지 확인하고 같은 길이의 배열을 반환\n",
        "X_data = iris.data[idx,0:2]\n",
        "Y_data = (iris.target[idx]-1.0)[:,np.newaxis]"
      ],
      "metadata": {
        "id": "leweOJFyDzVr"
      },
      "execution_count": 5,
      "outputs": []
    },
    {
      "cell_type": "code",
      "source": [
        "X_data.shape, Y_data.shape"
      ],
      "metadata": {
        "colab": {
          "base_uri": "https://localhost:8080/"
        },
        "id": "B5nWkE3sFqRz",
        "outputId": "ec9dc3dd-bdd6-440f-966d-cfcae67b4281"
      },
      "execution_count": 18,
      "outputs": [
        {
          "output_type": "execute_result",
          "data": {
            "text/plain": [
              "((100, 2), (100, 1))"
            ]
          },
          "metadata": {},
          "execution_count": 18
        }
      ]
    },
    {
      "cell_type": "code",
      "source": [
        "X_data.dtype"
      ],
      "metadata": {
        "colab": {
          "base_uri": "https://localhost:8080/"
        },
        "id": "WsMFEm5HHxuC",
        "outputId": "9fbeeb50-675a-4c26-a0bd-03933b4e75c9"
      },
      "execution_count": 19,
      "outputs": [
        {
          "output_type": "execute_result",
          "data": {
            "text/plain": [
              "dtype('float64')"
            ]
          },
          "metadata": {},
          "execution_count": 19
        }
      ]
    },
    {
      "cell_type": "markdown",
      "source": [
        "- 데이터 하나당 한번씩 weight업데이트\n",
        "- step size(lr) == 0.0003\n",
        "- iteration == 200\n"
      ],
      "metadata": {
        "id": "fpBlSV7fFz-m"
      }
    },
    {
      "cell_type": "markdown",
      "source": [
        "---"
      ],
      "metadata": {
        "id": "XsuYHZWKGs3u"
      }
    },
    {
      "cell_type": "code",
      "source": [
        "lr = 0.0003\n",
        "iteration = 500"
      ],
      "metadata": {
        "id": "ZfzVexZ3Gsgt"
      },
      "execution_count": 38,
      "outputs": []
    },
    {
      "cell_type": "code",
      "source": [
        "w = tf.Variable(tf.random.normal([2,1], dtype = tf.float64 ))\n",
        "b = tf.Variable(tf.random.normal([1,1], dtype = tf.float64))\n"
      ],
      "metadata": {
        "id": "F2PBnkiCFwjL"
      },
      "execution_count": 29,
      "outputs": []
    },
    {
      "cell_type": "code",
      "source": [
        "for epoch in range(iteration):\n",
        "  for i in range(X_data.shape[0]):\n",
        "    x = X_data[i:i+1]\n",
        "    y = Y_data[i:i+1]\n",
        "\n",
        "    with tf.GradientTape() as tape:\n",
        "      logit = tf.matmul(x,w) + b\n",
        "      y_hat = tf.tanh(logit)\n",
        "      loss = tf.maximum(0, tf.multiply(-y,y_hat))\n",
        "\n",
        "      grad = tape.gradient(loss, [w,b])\n",
        "      w.assign_sub(lr*grad[0])\n",
        "      b.assign_sub(lr*grad[1])\n"
      ],
      "metadata": {
        "id": "kh7GmKwoIKe6"
      },
      "execution_count": 39,
      "outputs": []
    },
    {
      "cell_type": "code",
      "source": [
        "y_pred = tf.tanh(tf.matmul(X_data, w) +b)"
      ],
      "metadata": {
        "colab": {
          "base_uri": "https://localhost:8080/"
        },
        "id": "NVRqTqD9JHCo",
        "outputId": "d36f2416-9435-4e43-c143-3a1ef3c2f5a5"
      },
      "execution_count": 40,
      "outputs": [
        {
          "output_type": "execute_result",
          "data": {
            "text/plain": [
              "TensorShape([100, 1])"
            ]
          },
          "metadata": {},
          "execution_count": 40
        }
      ]
    },
    {
      "cell_type": "code",
      "source": [
        "for i in range(50,60):\n",
        "  print('예측치:', -1 if y_pred[i]<0 else 1, '실제값:' , Y_data[i])"
      ],
      "metadata": {
        "colab": {
          "base_uri": "https://localhost:8080/"
        },
        "id": "H_xrQttuMxUd",
        "outputId": "cc48d618-a73c-4bd8-b5af-1a3d9faa6bb5"
      },
      "execution_count": 51,
      "outputs": [
        {
          "output_type": "stream",
          "name": "stdout",
          "text": [
            "예측치: 1 실제값: [1.]\n",
            "예측치: 1 실제값: [1.]\n",
            "예측치: 1 실제값: [1.]\n",
            "예측치: 1 실제값: [1.]\n",
            "예측치: 1 실제값: [1.]\n",
            "예측치: 1 실제값: [1.]\n",
            "예측치: 1 실제값: [1.]\n",
            "예측치: 1 실제값: [1.]\n",
            "예측치: 1 실제값: [1.]\n",
            "예측치: 1 실제값: [1.]\n"
          ]
        }
      ]
    },
    {
      "cell_type": "code",
      "source": [
        "import matplotlib.pyplot as plt\n",
        "\n",
        "plt.plot(Y_data, '--r')\n",
        "plt.plot(y_pred, '--b')\n",
        "plt.title('True_data(red), Predict_data(blue)')\n",
        "plt.legend()\n",
        "plt.show();\n"
      ],
      "metadata": {
        "colab": {
          "base_uri": "https://localhost:8080/",
          "height": 469
        },
        "id": "-iLV2THINTxQ",
        "outputId": "f19c3f50-9259-4513-b87b-a917811fb183"
      },
      "execution_count": 59,
      "outputs": [
        {
          "output_type": "stream",
          "name": "stderr",
          "text": [
            "WARNING:matplotlib.legend:No artists with labels found to put in legend.  Note that artists whose label start with an underscore are ignored when legend() is called with no argument.\n"
          ]
        },
        {
          "output_type": "display_data",
          "data": {
            "text/plain": [
              "<Figure size 640x480 with 1 Axes>"
            ],
            "image/png": "[encoded data removed]"
          },
          "metadata": {}
        }
      ]
    },
    {
      "cell_type": "code",
      "source": [
        ""
      ],
      "metadata": {
        "id": "epHmqMq3NgYJ"
      },
      "execution_count": null,
      "outputs": []
    }
  ]
}