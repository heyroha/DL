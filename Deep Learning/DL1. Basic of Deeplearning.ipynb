{
 "cells": [
  {
   "cell_type": "code",
   "execution_count": 2,
   "metadata": {},
   "outputs": [
    {
     "data": {
      "text/plain": [
       "array([[  1.,   1.,  84.,  46., 354.],\n",
       "       [  2.,   1.,  73.,  20., 190.],\n",
       "       [  3.,   1.,  65.,  52., 405.],\n",
       "       [  4.,   1.,  70.,  30., 263.],\n",
       "       [  5.,   1.,  76.,  57., 451.],\n",
       "       [  6.,   1.,  69.,  25., 302.],\n",
       "       [  7.,   1.,  63.,  28., 288.],\n",
       "       [  8.,   1.,  72.,  36., 385.],\n",
       "       [  9.,   1.,  79.,  57., 402.],\n",
       "       [ 10.,   1.,  75.,  44., 365.],\n",
       "       [ 11.,   1.,  27.,  24., 209.],\n",
       "       [ 12.,   1.,  89.,  31., 290.],\n",
       "       [ 13.,   1.,  65.,  52., 346.],\n",
       "       [ 14.,   1.,  57.,  23., 254.],\n",
       "       [ 15.,   1.,  59.,  60., 395.],\n",
       "       [ 16.,   1.,  69.,  48., 434.],\n",
       "       [ 17.,   1.,  60.,  34., 220.],\n",
       "       [ 18.,   1.,  79.,  51., 374.],\n",
       "       [ 19.,   1.,  75.,  50., 308.],\n",
       "       [ 20.,   1.,  82.,  34., 220.],\n",
       "       [ 21.,   1.,  59.,  46., 311.],\n",
       "       [ 22.,   1.,  67.,  23., 181.],\n",
       "       [ 23.,   1.,  85.,  37., 274.],\n",
       "       [ 24.,   1.,  55.,  40., 303.],\n",
       "       [ 25.,   1.,  63.,  30., 244.]])"
      ]
     },
     "execution_count": 2,
     "metadata": {},
     "output_type": "execute_result"
    }
   ],
   "source": [
    "import numpy as np\n",
    "\n",
    "raw_data = np.genfromtxt('../../data/practice/x09.txt', skip_header= 36)\n",
    "raw_data\n",
    "#1은 구분선 같은거고 맨앞이 인덱스, 뒤에 3개가 실제 데이터부분\n",
    "#skip_header 옵션은 numpy의 genfromtxt 함수에서 사용되는 매개변수 중 하나로, 파일을 읽어올 때 상단에 있는 몇 줄의 데이터를 무시할지를 지정"
   ]
  },
  {
   "cell_type": "code",
   "execution_count": null,
   "metadata": {},
   "outputs": [],
   "source": []
  }
 ],
 "metadata": {
  "kernelspec": {
   "display_name": "ds_study",
   "language": "python",
   "name": "python3"
  },
  "language_info": {
   "codemirror_mode": {
    "name": "ipython",
    "version": 3
   },
   "file_extension": ".py",
   "mimetype": "text/x-python",
   "name": "python",
   "nbconvert_exporter": "python",
   "pygments_lexer": "ipython3",
   "version": "3.8.19"
  }
 },
 "nbformat": 4,
 "nbformat_minor": 2
}
